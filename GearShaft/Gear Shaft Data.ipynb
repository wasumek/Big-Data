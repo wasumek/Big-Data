{
 "cells": [
  {
   "cell_type": "code",
   "execution_count": 1,
   "metadata": {
    "ExecuteTime": {
     "end_time": "2019-09-12T01:39:04.450182Z",
     "start_time": "2019-09-12T01:39:02.770139Z"
    }
   },
   "outputs": [],
   "source": [
    "import matplotlib.pyplot as plt\n",
    "import pandas as pd\n",
    "import seaborn as sns"
   ]
  },
  {
   "cell_type": "markdown",
   "metadata": {},
   "source": [
    "# Bar plot"
   ]
  },
  {
   "cell_type": "markdown",
   "metadata": {},
   "source": [
    "## Simple bar plot example"
   ]
  },
  {
   "cell_type": "markdown",
   "metadata": {},
   "source": [
    "Create a boxplot chart containing 1900 OK Parts and 90 NOK Parts"
   ]
  },
  {
   "cell_type": "code",
   "execution_count": 2,
   "metadata": {
    "ExecuteTime": {
     "end_time": "2019-09-12T00:56:18.902253Z",
     "start_time": "2019-09-12T00:56:18.875258Z"
    }
   },
   "outputs": [
    {
     "data": {
      "image/png": "[encoded data removed]",
      "text/plain": [
       "<Figure size 432x288 with 1 Axes>"
      ]
     },
     "metadata": {
      "needs_background": "light"
     },
     "output_type": "display_data"
    }
   ],
   "source": [
    "x = [\"OK Parts\", \"NOK Parts\"]\n",
    "counts = [1900, 90]\n",
    "\n",
    "plt.bar(x, counts)\n",
    "\n",
    "plt.show()"
   ]
  },
  {
   "cell_type": "markdown",
   "metadata": {},
   "source": [
    "## Bar plot with your data"
   ]
  },
  {
   "cell_type": "code",
   "execution_count": 4,
   "metadata": {
    "ExecuteTime": {
     "end_time": "2019-09-12T01:41:18.704208Z",
     "start_time": "2019-09-12T01:41:18.665216Z"
    }
   },
   "outputs": [],
   "source": [
    "df = pd.read_csv(\"gear_shaft_data.csv\", sep=';')"
   ]
  },
  {
   "cell_type": "code",
   "execution_count": 8,
   "metadata": {
    "ExecuteTime": {
     "end_time": "2019-09-12T01:41:19.084454Z",
     "start_time": "2019-09-12T01:41:19.069454Z"
    }
   },
   "outputs": [
    {
     "data": {
      "text/html": [
       "<div>\n",
       "<style scoped>\n",
       "    .dataframe tbody tr th:only-of-type {\n",
       "        vertical-align: middle;\n",
       "    }\n",
       "\n",
       "    .dataframe tbody tr th {\n",
       "        vertical-align: top;\n",
       "    }\n",
       "\n",
       "    .dataframe thead th {\n",
       "        text-align: right;\n",
       "    }\n",
       "</style>\n",
       "<table border=\"1\" class=\"dataframe\">\n",
       "  <thead>\n",
       "    <tr style=\"text-align: right;\">\n",
       "      <th></th>\n",
       "      <th>Turning_Cut_Depth</th>\n",
       "      <th>Milling_Gear_Depth</th>\n",
       "      <th>Drilling_Surf_Quality</th>\n",
       "      <th>Drill_Pressure</th>\n",
       "      <th>Drilling_Speed</th>\n",
       "      <th>Turning_Rotation_Speed</th>\n",
       "      <th>Turning_Cut_Speed</th>\n",
       "      <th>Milling_Circle_Diameter</th>\n",
       "      <th>Drilling_Diameter</th>\n",
       "      <th>Turning_Shaft_Diameter</th>\n",
       "      <th>class</th>\n",
       "    </tr>\n",
       "  </thead>\n",
       "  <tbody>\n",
       "    <tr>\n",
       "      <th>0</th>\n",
       "      <td>0.637494</td>\n",
       "      <td>0.310224</td>\n",
       "      <td>0.004732</td>\n",
       "      <td>3.493444</td>\n",
       "      <td>38.438535</td>\n",
       "      <td>42.662545</td>\n",
       "      <td>49.151251</td>\n",
       "      <td>1.244546</td>\n",
       "      <td>1.458960</td>\n",
       "      <td>0.100880</td>\n",
       "      <td>OK</td>\n",
       "    </tr>\n",
       "    <tr>\n",
       "      <th>1</th>\n",
       "      <td>0.652844</td>\n",
       "      <td>0.320212</td>\n",
       "      <td>0.004732</td>\n",
       "      <td>1.274442</td>\n",
       "      <td>39.551515</td>\n",
       "      <td>43.531334</td>\n",
       "      <td>49.179602</td>\n",
       "      <td>1.312920</td>\n",
       "      <td>1.522850</td>\n",
       "      <td>0.100293</td>\n",
       "      <td>OK</td>\n",
       "    </tr>\n",
       "    <tr>\n",
       "      <th>2</th>\n",
       "      <td>0.617482</td>\n",
       "      <td>0.288820</td>\n",
       "      <td>0.003994</td>\n",
       "      <td>1.729314</td>\n",
       "      <td>37.690105</td>\n",
       "      <td>43.455439</td>\n",
       "      <td>49.172410</td>\n",
       "      <td>1.199105</td>\n",
       "      <td>1.517454</td>\n",
       "      <td>0.102054</td>\n",
       "      <td>OK</td>\n",
       "    </tr>\n",
       "    <tr>\n",
       "      <th>3</th>\n",
       "      <td>0.595691</td>\n",
       "      <td>0.290698</td>\n",
       "      <td>0.005260</td>\n",
       "      <td>4.746772</td>\n",
       "      <td>38.070763</td>\n",
       "      <td>43.163878</td>\n",
       "      <td>49.167025</td>\n",
       "      <td>1.222921</td>\n",
       "      <td>1.495762</td>\n",
       "      <td>0.100000</td>\n",
       "      <td>OK</td>\n",
       "    </tr>\n",
       "    <tr>\n",
       "      <th>4</th>\n",
       "      <td>0.603474</td>\n",
       "      <td>0.309191</td>\n",
       "      <td>0.003827</td>\n",
       "      <td>1.961616</td>\n",
       "      <td>38.626447</td>\n",
       "      <td>42.834841</td>\n",
       "      <td>49.169505</td>\n",
       "      <td>1.257468</td>\n",
       "      <td>1.470745</td>\n",
       "      <td>0.101174</td>\n",
       "      <td>OK</td>\n",
       "    </tr>\n",
       "  </tbody>\n",
       "</table>\n",
       "</div>"
      ],
      "text/plain": [
       "   Turning_Cut_Depth  Milling_Gear_Depth  Drilling_Surf_Quality  \\\n",
       "0           0.637494            0.310224               0.004732   \n",
       "1           0.652844            0.320212               0.004732   \n",
       "2           0.617482            0.288820               0.003994   \n",
       "3           0.595691            0.290698               0.005260   \n",
       "4           0.603474            0.309191               0.003827   \n",
       "\n",
       "   Drill_Pressure  Drilling_Speed  Turning_Rotation_Speed  Turning_Cut_Speed  \\\n",
       "0        3.493444       38.438535               42.662545          49.151251   \n",
       "1        1.274442       39.551515               43.531334          49.179602   \n",
       "2        1.729314       37.690105               43.455439          49.172410   \n",
       "3        4.746772       38.070763               43.163878          49.167025   \n",
       "4        1.961616       38.626447               42.834841          49.169505   \n",
       "\n",
       "   Milling_Circle_Diameter  Drilling_Diameter  Turning_Shaft_Diameter class  \n",
       "0                 1.244546           1.458960                0.100880    OK  \n",
       "1                 1.312920           1.522850                0.100293    OK  \n",
       "2                 1.199105           1.517454                0.102054    OK  \n",
       "3                 1.222921           1.495762                0.100000    OK  \n",
       "4                 1.257468           1.470745                0.101174    OK  "
      ]
     },
     "execution_count": 8,
     "metadata": {},
     "output_type": "execute_result"
    }
   ],
   "source": [
    "df.head()"
   ]
  },
  {
   "cell_type": "code",
   "execution_count": 9,
   "metadata": {
    "ExecuteTime": {
     "end_time": "2019-09-12T01:41:19.630456Z",
     "start_time": "2019-09-12T01:41:19.622455Z"
    }
   },
   "outputs": [],
   "source": [
    "def plot_value_counts(feature_name, dataframe, save_to_file=False, path_result=\"../results/\"):\n",
    "    \"\"\"\n",
    "    Plots the value counts of a categorical feature as a bar plot.\n",
    "    \n",
    "    Parameters\n",
    "    ----------\n",
    "    feature_name (string): Name of the feature to be plotted\n",
    "    dataframe (pandas.DataFrame): DataFrame containing a column with values for the specified feature\n",
    "    save_to_file (boolean): If True the created plot is saved as a PNG file, if False the plot is just displayed\n",
    "    path_result (string): Path to folder, where the plot is to be saved if save_to_file is True\n",
    "    \"\"\"\n",
    "    plt.figure()\n",
    "    value_counts = dataframe[feature_name].value_counts(dropna=False)\n",
    "    ax = value_counts.plot(kind=\"bar\")\n",
    "\n",
    "    counts = value_counts.values\n",
    "\n",
    "    rectangles = ax.patches\n",
    "    for rect, count in zip(rectangles, counts):\n",
    "        height = rect.get_height()\n",
    "        x = rect.get_x()\n",
    "        width = rect.get_width()\n",
    "        count = \"{:,}\".format(count)\n",
    "        ax.text(x + width / 2, height + 20, count, ha=\"center\", va=\"bottom\", fontsize=10)\n",
    "\n",
    "    # format figure\n",
    "    plt.title(feature_name)\n",
    "    plt.ylabel(\"value counts\")\n",
    "    plt.tight_layout()\n",
    "    if not save_to_file:\n",
    "        plt.show()\n",
    "    else:\n",
    "        plt.savefig(path_result + \"value_counts_\" + feature_name + \".png\")\n",
    "        plt.close()"
   ]
  },
  {
   "cell_type": "code",
   "execution_count": 10,
   "metadata": {
    "ExecuteTime": {
     "end_time": "2019-09-12T01:41:20.464899Z",
     "start_time": "2019-09-12T01:41:20.195897Z"
    }
   },
   "outputs": [
    {
     "data": {
      "image/png": "[encoded data removed]",
      "text/plain": [
       "<Figure size 432x288 with 1 Axes>"
      ]
     },
     "metadata": {
      "needs_background": "light"
     },
     "output_type": "display_data"
    }
   ],
   "source": [
    "plot_value_counts(\"class\", df, save_to_file=False)"
   ]
  },
  {
   "cell_type": "code",
   "execution_count": 12,
   "metadata": {},
   "outputs": [],
   "source": [
    "?plot_value_counts"
   ]
  },
  {
   "cell_type": "markdown",
   "metadata": {},
   "source": [
    "# Scatter Plot with your data"
   ]
  },
  {
   "cell_type": "code",
   "execution_count": 13,
   "metadata": {
    "ExecuteTime": {
     "end_time": "2019-09-12T00:56:30.511388Z",
     "start_time": "2019-09-12T00:56:30.507386Z"
    }
   },
   "outputs": [],
   "source": [
    "def plot_scatter(x, y, c, data, save_to_file=False, path_result=\"../results/\"):\n",
    "    \"\"\"\n",
    "    Creates a scatter plot.\n",
    "    \n",
    "    Parameters\n",
    "    ----------\n",
    "    x (string): Name of feature for x-axis\n",
    "    y (string): Name of feature for y-axis\n",
    "    data (pamdas.DataFrame): DataFrame comprising 0_data for x and y\n",
    "    save_to_file (boolean): If True the plot is saved, if False the plot is just shown\n",
    "    path_result (string): Path to folder, where the plot is to be saved if save_to_file is True\n",
    "    \"\"\"\n",
    "    plt.figure()\n",
    "    sns.scatterplot(x=x, y=y, hue=c, data=data)\n",
    "    plt.tight_layout()\n",
    "    \n",
    "    if save_to_file:\n",
    "        plt.savefig(path_result + \"scatter_\" + x + \"_\" + y + \".png\")\n",
    "    else:\n",
    "        plt.show()"
   ]
  },
  {
   "cell_type": "code",
   "execution_count": 14,
   "metadata": {
    "ExecuteTime": {
     "end_time": "2019-09-12T00:56:31.193751Z",
     "start_time": "2019-09-12T00:56:31.165695Z"
    }
   },
   "outputs": [],
   "source": [
    "df = pd.read_csv(\"gear_shaft_data.csv\", sep=';')"
   ]
  },
  {
   "cell_type": "code",
   "execution_count": 15,
   "metadata": {
    "ExecuteTime": {
     "end_time": "2019-09-12T00:56:31.855006Z",
     "start_time": "2019-09-12T00:56:31.827019Z"
    }
   },
   "outputs": [
    {
     "name": "stdout",
     "output_type": "stream",
     "text": [
      "(9998, 11)\n"
     ]
    }
   ],
   "source": [
    "df.drop_duplicates(inplace=True)\n",
    "\n",
    "print(df.shape)"
   ]
  },
  {
   "cell_type": "code",
   "execution_count": 16,
   "metadata": {
    "ExecuteTime": {
     "end_time": "2019-09-12T00:56:33.160577Z",
     "start_time": "2019-09-12T00:56:32.988570Z"
    }
   },
   "outputs": [],
   "source": [
    "%matplotlib qt\n",
    "\n",
    "plot_scatter(\"Drilling_Speed\", \"Turning_Rotation_Speed\", \"class\", df)"
   ]
  },
  {
   "cell_type": "markdown",
   "metadata": {},
   "source": [
    "## After the following command, a new Window with the plot will open!"
   ]
  },
  {
   "cell_type": "code",
   "execution_count": 17,
   "metadata": {
    "ExecuteTime": {
     "end_time": "2019-09-11T15:11:07.474466Z",
     "start_time": "2019-09-11T15:11:07.389468Z"
    }
   },
   "outputs": [],
   "source": [
    "import matplotlib.pyplot as plt\n",
    "\n",
    "x = [\"OK Parts\", \"NOK Parts\"] \n",
    "counts = [1900, 90]\n",
    "\n",
    "plt.bar(x, counts, edgecolor=\"k\", color=[\"g\", \"r\"], alpha=0.5)\n",
    "\n",
    "plt.show()"
   ]
  }
 ],
 "metadata": {
  "kernelspec": {
   "display_name": "Python 3 (ipykernel)",
   "language": "python",
   "name": "python3"
  },
  "language_info": {
   "codemirror_mode": {
    "name": "ipython",
    "version": 3
   },
   "file_extension": ".py",
   "mimetype": "text/x-python",
   "name": "python",
   "nbconvert_exporter": "python",
   "pygments_lexer": "ipython3",
   "version": "3.9.7"
  },
  "toc": {
   "base_numbering": 1,
   "nav_menu": {},
   "number_sections": true,
   "sideBar": true,
   "skip_h1_title": false,
   "title_cell": "Table of Contents",
   "title_sidebar": "Contents",
   "toc_cell": false,
   "toc_position": {},
   "toc_section_display": true,
   "toc_window_display": false
  }
 },
 "nbformat": 4,
 "nbformat_minor": 2
}
